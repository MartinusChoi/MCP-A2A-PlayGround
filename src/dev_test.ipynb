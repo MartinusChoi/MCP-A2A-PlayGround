{
 "cells": [
  {
   "cell_type": "code",
   "execution_count": 1,
   "id": "3ee4d1db",
   "metadata": {},
   "outputs": [],
   "source": [
    "import os\n",
    "from dotenv import load_dotenv"
   ]
  },
  {
   "cell_type": "code",
   "execution_count": 2,
   "id": "7eb1c661",
   "metadata": {},
   "outputs": [
    {
     "data": {
      "text/plain": [
       "True"
      ]
     },
     "execution_count": 2,
     "metadata": {},
     "output_type": "execute_result"
    }
   ],
   "source": [
    "load_dotenv()"
   ]
  },
  {
   "cell_type": "code",
   "execution_count": 10,
   "id": "f09e9c85",
   "metadata": {},
   "outputs": [
    {
     "name": "stdout",
     "output_type": "stream",
     "text": [
      "{'query': 'OpenAI 2025 August latest open source model', 'follow_up_questions': None, 'answer': None, 'images': [], 'results': [{'url': 'https://huggingface.co/blog/welcome-openai-gpt-oss', 'title': 'GPT OSS, the new open-source model family from OpenAI!', 'content': 'Welcome GPT OSS, the new open-source model family from OpenAI! Published August 5, 2025 ... latest open AI models on-premise using Dell platforms.', 'score': 0.8700796, 'raw_content': None}, {'url': 'https://www.forbes.com/sites/paulbaier/2025/08/07/openais-new-open-source-models-are-a-very-big-deal-3-reasons-why/', 'title': 'OpenAI Releases Two Powerful Open Source AI Models', 'content': 'On August 5, OpenAI released two new open source AI models: gpt-oss-120b (a 120-billion-parameter Mixture-of-Experts model) and gpt-oss-20b (a', 'score': 0.7463059, 'raw_content': None}, {'url': 'https://northflank.com/blog/self-host-openai-gpt-oss-120b-open-source-chatgpt', 'title': \"Run OpenAI's new GPT-OSS (open-source) model on ...\", 'content': 'OpenAI released GPT-OSS, a powerful open-source LLM family under Apache 2.0. · The 120B model delivers top-tier performance and runs smoothly on', 'score': 0.5063723, 'raw_content': None}, {'url': 'https://azure.microsoft.com/en-us/blog/openais-open%E2%80%91source-model-gpt%E2%80%91oss-on-azure-ai-foundry-and-windows-ai-foundry/', 'title': \"OpenAI's open‑source model: gpt‑oss on Azure AI Foundry ...\", 'content': \"OpenAI's gpt‑oss models gives developers and enterprises the ability to run, adapt, and deploy OpenAI models on their own terms. Learn more.\", 'score': 0.47592255, 'raw_content': None}, {'url': 'https://arstechnica.com/ai/2025/08/openai-releases-its-first-open-source-models-since-2019/', 'title': 'OpenAI announces two “gpt-oss” open AI models, and you ...', 'content': 'The company is rolling out gpt-oss-120b and gpt-oss-20b, its first open-weight models since the release of GPT-2 in 2019. You can download and', 'score': 0.3916624, 'raw_content': None}], 'response_time': 1.23, 'request_id': '84b8e4b5-9011-49a1-9728-258650255d65'}\n"
     ]
    }
   ],
   "source": [
    "from tavily import TavilyClient\n",
    "\n",
    "# initialize tavily client\n",
    "client = TavilyClient(api_key=os.environ['TAVILY_API_KEY'])\n",
    "search_params = {\n",
    "    'query' : \"OpenAI 2025 August latest open source model\",\n",
    "    'max_results' : 5,\n",
    "}\n",
    "\n",
    "# Execute Search\n",
    "result = client.search(**search_params)\n",
    "if len(result) == 0:\n",
    "    raise ValueError(\"No results found. Please check your query and try again.\")\n",
    "else:\n",
    "    print(result)"
   ]
  },
  {
   "cell_type": "code",
   "execution_count": 11,
   "id": "6303bf76",
   "metadata": {},
   "outputs": [
    {
     "data": {
      "text/plain": [
       "{'query': 'OpenAI 2025 August latest open source model',\n",
       " 'follow_up_questions': None,\n",
       " 'answer': None,\n",
       " 'images': [],\n",
       " 'results': [{'url': 'https://huggingface.co/blog/welcome-openai-gpt-oss',\n",
       "   'title': 'GPT OSS, the new open-source model family from OpenAI!',\n",
       "   'content': 'Welcome GPT OSS, the new open-source model family from OpenAI! Published August 5, 2025 ... latest open AI models on-premise using Dell platforms.',\n",
       "   'score': 0.8700796,\n",
       "   'raw_content': None},\n",
       "  {'url': 'https://www.forbes.com/sites/paulbaier/2025/08/07/openais-new-open-source-models-are-a-very-big-deal-3-reasons-why/',\n",
       "   'title': 'OpenAI Releases Two Powerful Open Source AI Models',\n",
       "   'content': 'On August 5, OpenAI released two new open source AI models: gpt-oss-120b (a 120-billion-parameter Mixture-of-Experts model) and gpt-oss-20b (a',\n",
       "   'score': 0.7463059,\n",
       "   'raw_content': None},\n",
       "  {'url': 'https://northflank.com/blog/self-host-openai-gpt-oss-120b-open-source-chatgpt',\n",
       "   'title': \"Run OpenAI's new GPT-OSS (open-source) model on ...\",\n",
       "   'content': 'OpenAI released GPT-OSS, a powerful open-source LLM family under Apache 2.0. · The 120B model delivers top-tier performance and runs smoothly on',\n",
       "   'score': 0.5063723,\n",
       "   'raw_content': None},\n",
       "  {'url': 'https://azure.microsoft.com/en-us/blog/openais-open%E2%80%91source-model-gpt%E2%80%91oss-on-azure-ai-foundry-and-windows-ai-foundry/',\n",
       "   'title': \"OpenAI's open‑source model: gpt‑oss on Azure AI Foundry ...\",\n",
       "   'content': \"OpenAI's gpt‑oss models gives developers and enterprises the ability to run, adapt, and deploy OpenAI models on their own terms. Learn more.\",\n",
       "   'score': 0.47592255,\n",
       "   'raw_content': None},\n",
       "  {'url': 'https://arstechnica.com/ai/2025/08/openai-releases-its-first-open-source-models-since-2019/',\n",
       "   'title': 'OpenAI announces two “gpt-oss” open AI models, and you ...',\n",
       "   'content': 'The company is rolling out gpt-oss-120b and gpt-oss-20b, its first open-weight models since the release of GPT-2 in 2019. You can download and',\n",
       "   'score': 0.3916624,\n",
       "   'raw_content': None}],\n",
       " 'response_time': 1.23,\n",
       " 'request_id': '84b8e4b5-9011-49a1-9728-258650255d65'}"
      ]
     },
     "execution_count": 11,
     "metadata": {},
     "output_type": "execute_result"
    }
   ],
   "source": [
    "result"
   ]
  },
  {
   "cell_type": "code",
   "execution_count": null,
   "id": "29f146c2",
   "metadata": {},
   "outputs": [],
   "source": []
  }
 ],
 "metadata": {
  "kernelspec": {
   "display_name": "mcp-a2a",
   "language": "python",
   "name": "python3"
  },
  "language_info": {
   "codemirror_mode": {
    "name": "ipython",
    "version": 3
   },
   "file_extension": ".py",
   "mimetype": "text/x-python",
   "name": "python",
   "nbconvert_exporter": "python",
   "pygments_lexer": "ipython3",
   "version": "3.12.11"
  }
 },
 "nbformat": 4,
 "nbformat_minor": 5
}

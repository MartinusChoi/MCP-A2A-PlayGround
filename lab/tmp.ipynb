{
 "cells": [
  {
   "cell_type": "code",
   "execution_count": 10,
   "id": "3ee4d1db",
   "metadata": {},
   "outputs": [],
   "source": [
    "from agent.simple.simple_chat_agent import SimpleLangGraphChatAgent, StateSchema, InputSchema, OutputSchema\n",
    "\n",
    "import os\n",
    "from dotenv import load_dotenv\n",
    "\n",
    "from langchain_openai import ChatOpenAI"
   ]
  },
  {
   "cell_type": "code",
   "execution_count": 11,
   "id": "7eb1c661",
   "metadata": {},
   "outputs": [
    {
     "data": {
      "text/plain": [
       "True"
      ]
     },
     "execution_count": 11,
     "metadata": {},
     "output_type": "execute_result"
    }
   ],
   "source": [
    "load_dotenv()"
   ]
  },
  {
   "cell_type": "code",
   "execution_count": 12,
   "id": "bb735f8c",
   "metadata": {},
   "outputs": [],
   "source": [
    "model = ChatOpenAI(\n",
    "    api_key=os.environ['OPENAI_API_KEY']\n",
    ")\n",
    "\n",
    "simple_chat_agent = SimpleLangGraphChatAgent(\n",
    "    model = model,\n",
    "    state_schema = StateSchema,\n",
    "    input_schema = InputSchema,\n",
    "    output_schema = OutputSchema,\n",
    "    agent_name = \"simple_chat_agent\"\n",
    ")\n",
    "\n",
    "simple_chat_agent.build_graph()\n"
   ]
  },
  {
   "cell_type": "code",
   "execution_count": 13,
   "id": "0cdd62fb",
   "metadata": {},
   "outputs": [
    {
     "data": {
      "text/plain": [
       "{'generation': '안녕하세요! 무엇을 도와드릴까요?'}"
      ]
     },
     "execution_count": 13,
     "metadata": {},
     "output_type": "execute_result"
    }
   ],
   "source": [
    "simple_chat_agent.graph.invoke({\"query\" : \"안녕?\"})"
   ]
  }
 ],
 "metadata": {
  "kernelspec": {
   "display_name": "mcp-a2a",
   "language": "python",
   "name": "python3"
  },
  "language_info": {
   "codemirror_mode": {
    "name": "ipython",
    "version": 3
   },
   "file_extension": ".py",
   "mimetype": "text/x-python",
   "name": "python",
   "nbconvert_exporter": "python",
   "pygments_lexer": "ipython3",
   "version": "3.12.11"
  }
 },
 "nbformat": 4,
 "nbformat_minor": 5
}
